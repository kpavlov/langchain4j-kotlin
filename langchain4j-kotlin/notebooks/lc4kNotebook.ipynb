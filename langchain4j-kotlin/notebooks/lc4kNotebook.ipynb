{
 "cells": [
  {
   "metadata": {},
   "cell_type": "markdown",
   "source": "# Welcome to LangChain4j-Kotlin Notebook!"
  },
  {
   "metadata": {
    "ExecuteTime": {
     "end_time": "2024-11-13T08:35:39.189257Z",
     "start_time": "2024-11-13T08:35:39.148534Z"
    }
   },
   "cell_type": "code",
   "source": [
    "@file:DependsOn(\"me.kpavlov.langchain4j.kotlin:langchain4j-core-kotlin:0.1.0\")\n",
    "@file:DependsOn(\"dev.langchain4j:langchain4j:0.35.0\")\n",
    "@file:DependsOn(\"dev.langchain4j:langchain4j-open-ai:0.35.0\")\n",
    "// Add your project's target/classes to classpath\n",
    "@file:DependsOn(\"../target/classes\")"
   ],
   "outputs": [],
   "execution_count": 25
  },
  {
   "metadata": {
    "ExecuteTime": {
     "end_time": "2024-11-13T08:35:40.666480Z",
     "start_time": "2024-11-13T08:35:39.193189Z"
    }
   },
   "cell_type": "code",
   "source": [
    "import dev.langchain4j.model.chat.generateAsync\n",
    "import dev.langchain4j.model.openai.OpenAiChatModel\n",
    "import dev.langchain4j.data.message.SystemMessage\n",
    "import dev.langchain4j.data.message.UserMessage\n",
    "import kotlinx.coroutines.runBlocking\n",
    "\n",
    "val model = OpenAiChatModel\n",
    "  .builder()\n",
    "  .apiKey(\"demo\")\n",
    "  .modelName(\"gpt-4o-mini\")\n",
    "  .temperature(0.0)\n",
    "  .maxTokens(1024)\n",
    "  .build()\n",
    "\n",
    "runBlocking {\n",
    "  val result = model.generateAsync(\n",
    "    listOf(\n",
    "      SystemMessage.from(\"You are helpful assistant\"),\n",
    "      UserMessage.from(\"make a joke about Kotlin and LLM\"),\n",
    "    )\n",
    "  )\n",
    "  \n",
    "  println(result.content().text())\n",
    "}\n",
    "\n",
    "    \n",
    "   "
   ],
   "outputs": [
    {
     "name": "stdout",
     "output_type": "stream",
     "text": [
      "Why did the Kotlin developer break up with the LLM?\n",
      "\n",
      "Because every time they tried to have a conversation, the LLM kept saying, \"I can't infer your type!\"\n"
     ]
    }
   ],
   "execution_count": 26
  },
  {
   "metadata": {
    "ExecuteTime": {
     "end_time": "2024-11-13T08:35:40.732569Z",
     "start_time": "2024-11-13T08:35:40.731444Z"
    }
   },
   "cell_type": "code",
   "source": "",
   "outputs": [],
   "execution_count": null
  }
 ],
 "metadata": {
  "kernelspec": {
   "display_name": "Kotlin",
   "language": "kotlin",
   "name": "kotlin"
  },
  "language_info": {
   "name": "kotlin",
   "version": "1.9.23",
   "mimetype": "text/x-kotlin",
   "file_extension": ".kt",
   "pygments_lexer": "kotlin",
   "codemirror_mode": "text/x-kotlin",
   "nbconvert_exporter": ""
  },
  "ktnbPluginMetadata": {
   "projectDependencies": [
    "langchain4j-kotlin"
   ]
  }
 },
 "nbformat": 4,
 "nbformat_minor": 0
}
