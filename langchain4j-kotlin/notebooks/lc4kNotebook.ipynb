{
 "cells": [
  {
   "metadata": {},
   "cell_type": "markdown",
   "source": "# Welcome to LangChain4j-Kotlin Notebook!"
  },
  {
   "metadata": {
    "ExecuteTime": {
     "end_time": "2024-11-13T08:41:13.973072Z",
     "start_time": "2024-11-13T08:41:11.937475Z"
    }
   },
   "cell_type": "code",
   "source": [
    "import dev.langchain4j.model.chat.generateAsync\n",
    "import dev.langchain4j.model.openai.OpenAiChatModel\n",
    "import dev.langchain4j.data.message.SystemMessage\n",
    "import dev.langchain4j.data.message.UserMessage\n",
    "import kotlinx.coroutines.runBlocking\n",
    "\n",
    "val model = OpenAiChatModel\n",
    "  .builder()\n",
    "  .apiKey(\"demo\")\n",
    "  .modelName(\"gpt-4o-mini\")\n",
    "  .temperature(0.0)\n",
    "  .maxTokens(1024)\n",
    "  .build()\n",
    "\n",
    "runBlocking {\n",
    "  val result = model.generateAsync(\n",
    "    listOf(\n",
    "      SystemMessage.from(\"You are helpful assistant\"),\n",
    "      UserMessage.from(\"Make a joke about Kotlin, Langchani4j and LLM\"),\n",
    "    )\n",
    "  )\n",
    "  \n",
    "  println(result.content().text())\n",
    "}\n",
    "\n",
    "    \n",
    "   "
   ],
   "outputs": [
    {
     "name": "stdout",
     "output_type": "stream",
     "text": [
      "Why did the Kotlin developer break up with Langchain4j?\n",
      "\n",
      "Because they found a new love in LLM that could handle their \"null\" feelings without throwing any exceptions!\n"
     ]
    }
   ],
   "execution_count": 36
  },
  {
   "metadata": {
    "ExecuteTime": {
     "end_time": "2024-11-13T08:39:55.837900Z",
     "start_time": "2024-11-13T08:39:55.836524Z"
    }
   },
   "cell_type": "code",
   "source": "",
   "outputs": [],
   "execution_count": null
  }
 ],
 "metadata": {
  "kernelspec": {
   "display_name": "Kotlin",
   "language": "kotlin",
   "name": "kotlin"
  },
  "language_info": {
   "name": "kotlin",
   "version": "1.9.23",
   "mimetype": "text/x-kotlin",
   "file_extension": ".kt",
   "pygments_lexer": "kotlin",
   "codemirror_mode": "text/x-kotlin",
   "nbconvert_exporter": ""
  },
  "ktnbPluginMetadata": {
   "projectDependencies": [
    "langchain4j-kotlin"
   ]
  }
 },
 "nbformat": 4,
 "nbformat_minor": 0
}
