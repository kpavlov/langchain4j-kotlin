{
 "cells": [
  {
   "metadata": {},
   "cell_type": "markdown",
   "source": "# Welcome to LangChain4j-Kotlin Notebook!"
  },
  {
   "metadata": {},
   "cell_type": "code",
   "source": [
    "//@file:DependsOn(\"me.kpavlov.langchain4j.kotlin:langchain4j-kotlin:0.1.1\")\n",
    "\n",
    "import dev.langchain4j.model.chat.generateAsync\n",
    "import dev.langchain4j.model.openai.OpenAiChatModel\n",
    "import dev.langchain4j.data.message.SystemMessage\n",
    "import dev.langchain4j.data.message.UserMessage\n",
    "import kotlinx.coroutines.runBlocking\n",
    "\n",
    "val model = OpenAiChatModel\n",
    "  .builder()\n",
    "  .apiKey(\"demo\")\n",
    "  .modelName(\"gpt-4o-mini\")\n",
    "  .temperature(0.0)\n",
    "  .maxTokens(1024)\n",
    "  .build()\n",
    "\n",
    "runBlocking {\n",
    "  val result = model.generateAsync(\n",
    "    listOf(\n",
    "      SystemMessage.from(\"You are helpful assistant\"),\n",
    "      UserMessage.from(\"Make a joke about Kotlin, Langchani4j and LLM\"),\n",
    "    )\n",
    "  )\n",
    "  \n",
    "  println(result.content().text())\n",
    "}"
   ],
   "outputs": [],
   "execution_count": null
  }
 ],
 "metadata": {
  "kernelspec": {
   "display_name": "Kotlin",
   "language": "kotlin",
   "name": "kotlin"
  },
  "language_info": {
   "name": "kotlin",
   "version": "1.9.23",
   "mimetype": "text/x-kotlin",
   "file_extension": ".kt",
   "pygments_lexer": "kotlin",
   "codemirror_mode": "text/x-kotlin",
   "nbconvert_exporter": ""
  },
  "ktnbPluginMetadata": {
   "projectDependencies": [
    "langchain4j-kotlin"
   ]
  }
 },
 "nbformat": 4,
 "nbformat_minor": 0
}
