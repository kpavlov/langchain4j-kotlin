{
 "cells": [
  {
   "metadata": {},
   "cell_type": "markdown",
   "source": "## Welcome to LangChain4j-Kotlin Notebook!"
  },
  {
   "metadata": {
    "ExecuteTime": {
     "end_time": "2025-07-20T13:12:44.729695Z",
     "start_time": "2025-07-20T13:12:41.899835Z"
    }
   },
   "cell_type": "code",
   "source": [
    "%useLatestDescriptors\n",
    "%use coroutines\n",
    "@file:DependsOn(\"dev.langchain4j:langchain4j-kotlin:1.1.0-beta7\")\n",
    "@file:DependsOn(\"dev.langchain4j:langchain4j-open-ai:1.1.0\")\n",
    "\n",
    "// add maven dependency\n",
    "@file:DependsOn(\"me.kpavlov.langchain4j.kotlin:langchain4j-kotlin:0.3.0\")\n",
    "\n",
    "// ... or add project's target/classes to classpath\n",
    "//@file:DependsOn(\"../target/classes\")"
   ],
   "outputs": [],
   "execution_count": 7
  },
  {
   "metadata": {
    "ExecuteTime": {
     "end_time": "2025-07-20T13:12:58.444369Z",
     "start_time": "2025-07-20T13:12:57.537008Z"
    }
   },
   "cell_type": "code",
   "source": [
    "import dev.langchain4j.data.message.*\n",
    "import dev.langchain4j.data.message.SystemMessage.systemMessage\n",
    "import dev.langchain4j.data.message.UserMessage.userMessage\n",
    "import dev.langchain4j.model.openai.OpenAiChatModel\n",
    "import me.kpavlov.langchain4j.kotlin.model.chat.chatAsync\n",
    "\n",
    "val model = OpenAiChatModel.builder()\n",
    "  .apiKey(\"sk-***\")\n",
    "  .modelName(\"gpt-4o-mini\")\n",
    "  .temperature(0.0)\n",
    "  .maxTokens(1024)\n",
    "  .build()\n",
    "\n",
    "// Invoke using CoroutineScope\n",
    "val scope = CoroutineScope(Dispatchers.IO)\n",
    "\n",
    "runBlocking {\n",
    "  val result = model.chatAsync {\n",
    "    messages += systemMessage(\"You are helpful assistant\")\n",
    "    messages += userMessage(\"Make a haiku about Kotlin, Langchani4j and LLM\")\n",
    "  }\n",
    "\n",
    "  println(result.aiMessage().text())\n",
    "}"
   ],
   "outputs": [
    {
     "name": "stdout",
     "output_type": "stream",
     "text": [
      "Kotlin's sleek embrace,  \n",
      "Langchani4j whispers,  \n",
      "LLM dreams take flight.\n"
     ]
    }
   ],
   "execution_count": 9
  },
  {
   "metadata": {},
   "cell_type": "code",
   "source": "",
   "outputs": [],
   "execution_count": null
  }
 ],
 "metadata": {
  "kernelspec": {
   "display_name": "Kotlin",
   "language": "kotlin",
   "name": "kotlin"
  },
  "language_info": {
   "name": "kotlin",
   "version": "1.9.23",
   "mimetype": "text/x-kotlin",
   "file_extension": ".kt",
   "pygments_lexer": "kotlin",
   "codemirror_mode": "text/x-kotlin",
   "nbconvert_exporter": ""
  }
 },
 "nbformat": 4,
 "nbformat_minor": 0
}
