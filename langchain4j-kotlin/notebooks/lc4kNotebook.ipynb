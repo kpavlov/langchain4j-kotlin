{
 "cells": [
  {
   "metadata": {},
   "cell_type": "markdown",
   "source": "## Welcome to LangChain4j-Kotlin Notebook!"
  },
  {
   "metadata": {
    "ExecuteTime": {
     "end_time": "2024-11-13T22:06:53.575508Z",
     "start_time": "2024-11-13T22:06:53.416656Z"
    }
   },
   "cell_type": "code",
   "source": [
    "%useLatestDescriptors\n",
    "%use coroutines\n",
    "\n",
    "@file:DependsOn(\"dev.langchain4j:langchain4j:0.36.0\")\n",
    "@file:DependsOn(\"dev.langchain4j:langchain4j-open-ai:0.36.0\")\n",
    "\n",
    "// add maven dependency\n",
    "@file:DependsOn(\"me.kpavlov.langchain4j.kotlin:langchain4j-kotlin:0.1.1\")\n",
    "// ... or add project's target/classes to classpath\n",
    "//@file:DependsOn(\"../target/classes\")"
   ],
   "outputs": [],
   "execution_count": 13
  },
  {
   "metadata": {
    "ExecuteTime": {
     "end_time": "2024-11-13T22:06:54.840954Z",
     "start_time": "2024-11-13T22:06:53.578200Z"
    }
   },
   "cell_type": "code",
   "source": [
    "import dev.langchain4j.data.message.*\n",
    "import dev.langchain4j.model.openai.OpenAiChatModel\n",
    "import me.kpavlov.langchain4j.kotlin.model.chat.generateAsync\n",
    "  \n",
    "val model = OpenAiChatModel.builder()\n",
    "  .apiKey(\"demo\")\n",
    "  .modelName(\"gpt-4o-mini\")\n",
    "  .temperature(0.0)\n",
    "  .maxTokens(1024)\n",
    "  .build()\n",
    "\n",
    "// Invoke using CoroutineScope\n",
    "val scope = CoroutineScope(Dispatchers.IO)\n",
    "\n",
    "runBlocking {\n",
    "  val result = model.generateAsync(\n",
    "    listOf(\n",
    "      SystemMessage.from(\"You are helpful assistant\"),\n",
    "      UserMessage.from(\"Make a haiku about Kotlin, Langchani4j and LLM\"),\n",
    "    )\n",
    "  )\n",
    "  println(result.content().text())\n",
    "}"
   ],
   "outputs": [
    {
     "name": "stdout",
     "output_type": "stream",
     "text": [
      "Kotlin's sleek embrace,  \n",
      "Langchani4j whispers,  \n",
      "LLM dreams take flight.\n"
     ]
    }
   ],
   "execution_count": 14
  }
 ],
 "metadata": {
  "kernelspec": {
   "display_name": "Kotlin",
   "language": "kotlin",
   "name": "kotlin"
  },
  "language_info": {
   "name": "kotlin",
   "version": "1.9.23",
   "mimetype": "text/x-kotlin",
   "file_extension": ".kt",
   "pygments_lexer": "kotlin",
   "codemirror_mode": "text/x-kotlin",
   "nbconvert_exporter": ""
  },
  "ktnbPluginMetadata": {
   "projectDependencies": [
    "langchain4j-kotlin"
   ]
  }
 },
 "nbformat": 4,
 "nbformat_minor": 0
}
